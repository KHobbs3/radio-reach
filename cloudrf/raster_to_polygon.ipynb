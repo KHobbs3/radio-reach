{
 "cells": [
  {
   "cell_type": "markdown",
   "metadata": {},
   "source": [
    "## KMZ Rasters to GPGK Polygons\n",
    "Read raw radio propagation output, convert all raster bands to one dissolved polygon, export as GPKG."
   ]
  },
  {
   "cell_type": "markdown",
   "metadata": {},
   "source": [
    "#### Set-up"
   ]
  },
  {
   "cell_type": "code",
   "execution_count": 2,
   "metadata": {},
   "outputs": [
    {
     "name": "stdout",
     "output_type": "stream",
     "text": [
      "Intel MKL WARNING: Support of Intel(R) Streaming SIMD Extensions 4.2 (Intel(R) SSE4.2) enabled only processors has been deprecated. Intel oneAPI Math Kernel Library 2025.0 will require Intel(R) Advanced Vector Extensions (Intel(R) AVX) instructions.\n",
      "Intel MKL WARNING: Support of Intel(R) Streaming SIMD Extensions 4.2 (Intel(R) SSE4.2) enabled only processors has been deprecated. Intel oneAPI Math Kernel Library 2025.0 will require Intel(R) Advanced Vector Extensions (Intel(R) AVX) instructions.\n"
     ]
    }
   ],
   "source": [
    "import geopandas as gpd\n",
    "import pandas as pd\n",
    "import rasterio\n",
    "from rasterio.features import shapes\n",
    "from shapely.geometry import shape\n",
    "import os\n",
    "import glob"
   ]
  },
  {
   "cell_type": "code",
   "execution_count": 11,
   "metadata": {},
   "outputs": [],
   "source": [
    "# Select country and folder within which radio propagation rasters are output\n",
    "country = 'togo'\n",
    "itu_table = 'fmtv'"
   ]
  },
  {
   "cell_type": "markdown",
   "metadata": {},
   "source": [
    "Code source: https://gis.stackexchange.com/questions/187877/how-to-polygonize-raster-to-shapely-polygons"
   ]
  },
  {
   "cell_type": "code",
   "execution_count": 3,
   "metadata": {},
   "outputs": [],
   "source": [
    "mask = None\n",
    "\n",
    "def raster_to_polygon(in_path, out_path):\n",
    "        with rasterio.open(in_path) as src:\n",
    "                image = src.read(1) # first band\n",
    "                transform = src.transform # transform so that pixels have a reference system\n",
    "                results = (\n",
    "                        {'properties': {'raster_val': v}, 'geometry': s}\n",
    "                        for i, (s, v) in enumerate(\n",
    "                        shapes(image, mask=mask, transform=src.transform))\n",
    "                        \n",
    "                        # Ignore radio bands that have a value of 0 (I assume this means no signal)\n",
    "                        if v != 0\n",
    "                )\n",
    "        \n",
    "                # Create list of geoms\n",
    "                geoms = list(results)\n",
    "\n",
    "                # Convert to geodataframe\n",
    "                gdf = gpd.GeoDataFrame.from_features(geoms)\n",
    "\n",
    "                # Dissolve all polygons into a single geometry\n",
    "                dissolved = gdf.dissolve()\n",
    "\n",
    "                # Export\n",
    "                dissolved.to_file(out_path)\n",
    "        "
   ]
  },
  {
   "cell_type": "code",
   "execution_count": 9,
   "metadata": {},
   "outputs": [],
   "source": [
    "\n",
    "def raster_to_polygon(in_path, out_path):\n",
    "    with rasterio.open(in_path) as src:\n",
    "        transform = src.transform  # Reference system\n",
    "        \n",
    "        # Read all bands and store valid polygons\n",
    "        geoms = []\n",
    "        for band in range(1, src.count + 1):  # Loop through all bands\n",
    "            image = src.read(band)\n",
    "            \n",
    "            results = (\n",
    "                {'properties': {'raster_val': v}, 'geometry': shape(s)}\n",
    "                for s, v in shapes(image, mask=None, transform=transform)\n",
    "                if v != 0  # Ignore areas with no signal\n",
    "            )\n",
    "            \n",
    "            geoms.extend(results)\n",
    "        \n",
    "        # Convert to GeoDataFrame\n",
    "        gdf = gpd.GeoDataFrame.from_features(geoms)\n",
    "        \n",
    "        # Dissolve all polygons into a single geometry\n",
    "        dissolved = gdf.dissolve()\n",
    "        \n",
    "        # Ensure output is a MultiPolygon\n",
    "        dissolved.geometry = dissolved.geometry.apply(lambda geom: MultiPolygon([geom]) if geom.geom_type == \"Polygon\" else geom)\n",
    "        \n",
    "        # Export\n",
    "        dissolved.to_file(out_path, driver=\"GPKG\")\n",
    "        \n",
    "    print(f\"Polygon saved to {out_path}\")"
   ]
  },
  {
   "cell_type": "code",
   "execution_count": null,
   "metadata": {},
   "outputs": [
    {
     "name": "stdout",
     "output_type": "stream",
     "text": [
      "Output:  output/gpkg/togo/fmtv/2025-03-23_102215_RADIO RTDS_ANEHO.gpkg\n",
      "Polygon saved to output/gpkg/togo/fmtv/2025-03-23_102215_RADIO RTDS_ANEHO.gpkg\n",
      "Output:  output/gpkg/togo/fmtv/2025-03-23_102445_RADIO OCEAN_ANEHO.gpkg\n",
      "Polygon saved to output/gpkg/togo/fmtv/2025-03-23_102445_RADIO OCEAN_ANEHO.gpkg\n",
      "Output:  output/gpkg/togo/fmtv/2025-03-23_100900_RADIO RFI AGOU_AGOU.gpkg\n",
      "Polygon saved to output/gpkg/togo/fmtv/2025-03-23_100900_RADIO RFI AGOU_AGOU.gpkg\n",
      "Output:  output/gpkg/togo/fmtv/2025-03-23_101317_FIRMAMENT_AGOU GADZEPE.gpkg\n",
      "Polygon saved to output/gpkg/togo/fmtv/2025-03-23_101317_FIRMAMENT_AGOU GADZEPE.gpkg\n",
      "Output:  output/gpkg/togo/fmtv/2025-03-23_101755_RADIO LOME ALEJO_ALEJO.gpkg\n",
      "Polygon saved to output/gpkg/togo/fmtv/2025-03-23_101755_RADIO LOME ALEJO_ALEJO.gpkg\n",
      "Output:  output/gpkg/togo/fmtv/2025-03-23_103351_RADIO LOME_ATAKPAME.gpkg\n",
      "Polygon saved to output/gpkg/togo/fmtv/2025-03-23_103351_RADIO LOME_ATAKPAME.gpkg\n",
      "Output:  output/gpkg/togo/fmtv/2025-03-23_101057_RADIO EPHATHA_AGOU.gpkg\n",
      "Polygon saved to output/gpkg/togo/fmtv/2025-03-23_101057_RADIO EPHATHA_AGOU.gpkg\n",
      "Output:  output/gpkg/togo/fmtv/2025-03-23_100956_LA VOIX D'AGOU_AGOU.gpkg\n",
      "Polygon saved to output/gpkg/togo/fmtv/2025-03-23_100956_LA VOIX D'AGOU_AGOU.gpkg\n",
      "Output:  output/gpkg/togo/fmtv/2025-03-23_103033_RADIO KARA_ATAKPAME.gpkg\n",
      "Polygon saved to output/gpkg/togo/fmtv/2025-03-23_103033_RADIO KARA_ATAKPAME.gpkg\n",
      "Output:  output/gpkg/togo/fmtv/2025-03-23_101655_90800055_ALEDJO.gpkg\n",
      "Polygon saved to output/gpkg/togo/fmtv/2025-03-23_101655_90800055_ALEDJO.gpkg\n",
      "Output:  output/gpkg/togo/fmtv/2025-03-23_101543_RADIO ATLANTIC_AKLAKOU.gpkg\n",
      "Polygon saved to output/gpkg/togo/fmtv/2025-03-23_101543_RADIO ATLANTIC_AKLAKOU.gpkg\n",
      "Output:  output/gpkg/togo/fmtv/2025-03-23_100810_RFI_AGOU.gpkg\n",
      "Polygon saved to output/gpkg/togo/fmtv/2025-03-23_100810_RFI_AGOU.gpkg\n",
      "Output:  output/gpkg/togo/fmtv/2025-03-23_100722_RADIO KARA_AGOU.gpkg\n",
      "Polygon saved to output/gpkg/togo/fmtv/2025-03-23_100722_RADIO KARA_AGOU.gpkg\n",
      "Output:  output/gpkg/togo/fmtv/2025-03-23_102715_RADIO AZUR_ANIE.gpkg\n",
      "Polygon saved to output/gpkg/togo/fmtv/2025-03-23_102715_RADIO AZUR_ANIE.gpkg\n",
      "Output:  output/gpkg/togo/fmtv/2025-03-23_101428_DUNEYO_AHEPE.gpkg\n",
      "Polygon saved to output/gpkg/togo/fmtv/2025-03-23_101428_DUNEYO_AHEPE.gpkg\n",
      "Output:  output/gpkg/togo/fmtv/2025-03-23_100528_RADIO MOKPOKPO_AFAGNAN.gpkg\n",
      "Polygon saved to output/gpkg/togo/fmtv/2025-03-23_100528_RADIO MOKPOKPO_AFAGNAN.gpkg\n",
      "Output:  output/gpkg/togo/fmtv/2025-03-23_103241_RADIO ZEPHYR_ATAKPAME.gpkg\n",
      "Polygon saved to output/gpkg/togo/fmtv/2025-03-23_103241_RADIO ZEPHYR_ATAKPAME.gpkg\n",
      "Output:  output/gpkg/togo/fmtv/2025-03-23_102928_RADIO EXCELSIOR_ATAKPAME.gpkg\n",
      "Polygon saved to output/gpkg/togo/fmtv/2025-03-23_102928_RADIO EXCELSIOR_ATAKPAME.gpkg\n",
      "Output:  output/gpkg/togo/fmtv/2025-03-23_102821_RADIO MARANATHA_ASSAHOUN.gpkg\n",
      "Polygon saved to output/gpkg/togo/fmtv/2025-03-23_102821_RADIO MARANATHA_ASSAHOUN.gpkg\n",
      "Output:  output/gpkg/togo/fmtv/2025-03-23_102342_RADIO LUMIERE_ANEHO.gpkg\n",
      "Polygon saved to output/gpkg/togo/fmtv/2025-03-23_102342_RADIO LUMIERE_ANEHO.gpkg\n",
      "Output:  output/gpkg/togo/fmtv/2025-03-23_101908_RFI_ALEJO.gpkg\n",
      "Polygon saved to output/gpkg/togo/fmtv/2025-03-23_101908_RFI_ALEJO.gpkg\n",
      "Output:  output/gpkg/togo/fmtv/2025-03-23_100636_RADIO LOME_AGOU.gpkg\n",
      "Polygon saved to output/gpkg/togo/fmtv/2025-03-23_100636_RADIO LOME_AGOU.gpkg\n",
      "Output:  output/gpkg/togo/fmtv/2025-03-23_103137_RADIO LA PAIX_ATAKPAME.gpkg\n",
      "Polygon saved to output/gpkg/togo/fmtv/2025-03-23_103137_RADIO LA PAIX_ATAKPAME.gpkg\n",
      "Output:  output/gpkg/togo/fmtv/2025-03-23_102546_FLEX_ANEHO3.gpkg\n",
      "Polygon saved to output/gpkg/togo/fmtv/2025-03-23_102546_FLEX_ANEHO3.gpkg\n",
      "Output:  output/gpkg/togo/fmtv/2025-03-23_102058_RADIO ITESSI_AMLAME.gpkg\n",
      "Polygon saved to output/gpkg/togo/fmtv/2025-03-23_102058_RADIO ITESSI_AMLAME.gpkg\n",
      "Output:  output/gpkg/togo/fmtv/2025-03-23_101206_RADIO JVA_AGOU.gpkg\n",
      "Polygon saved to output/gpkg/togo/fmtv/2025-03-23_101206_RADIO JVA_AGOU.gpkg\n",
      "Output:  output/gpkg/togo/fmtv/2025-03-23_102009_RADIO KARA ALEJO_ALEJO.gpkg\n",
      "Polygon saved to output/gpkg/togo/fmtv/2025-03-23_102009_RADIO KARA ALEJO_ALEJO.gpkg\n"
     ]
    }
   ],
   "source": [
    "for file in glob.glob(f'output/raw/{country}/{itu_table}/*'):\n",
    "\n",
    "    # Define output path, files must be in kmz format\n",
    "    outpath = file.replace('raw', 'gpkg').replace('.kmz', '.gpkg')\n",
    "    print(\"Output: \", outpath)\n",
    "\n",
    "    # Read & polygonize raster, and export polygon\n",
    "    raster_to_polygon(file, outpath)"
   ]
  }
 ],
 "metadata": {
  "kernelspec": {
   "display_name": "bigd",
   "language": "python",
   "name": "python3"
  },
  "language_info": {
   "codemirror_mode": {
    "name": "ipython",
    "version": 3
   },
   "file_extension": ".py",
   "mimetype": "text/x-python",
   "name": "python",
   "nbconvert_exporter": "python",
   "pygments_lexer": "ipython3",
   "version": "3.11.7"
  }
 },
 "nbformat": 4,
 "nbformat_minor": 2
}
