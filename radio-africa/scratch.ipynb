{
 "cells": [
  {
   "cell_type": "code",
   "execution_count": 26,
   "metadata": {},
   "outputs": [
    {
     "name": "stdout",
     "output_type": "stream",
     "text": [
      "<class 'pandas.core.frame.DataFrame'>\n",
      "RangeIndex: 1 entries, 0 to 0\n",
      "Data columns (total 1 columns):\n",
      " #   Column    Non-Null Count  Dtype \n",
      "---  ------    --------------  ----- \n",
      " 0   stations  1 non-null      object\n",
      "dtypes: object(1)\n",
      "memory usage: 140.0+ bytes\n",
      "None\n"
     ]
    }
   ],
   "source": [
    "# Reads samples from Radio-Africa.org and converts to csv file for CloudRF\n",
    "import pandas as pd\n",
    "import warnings\n",
    "\n",
    "\n",
    "df = pd.read_json('json/radio-africa-sample.json', orient='records')\n",
    "print(df.info())\n"
   ]
  },
  {
   "cell_type": "code",
   "execution_count": 27,
   "metadata": {},
   "outputs": [
    {
     "data": {
      "text/html": [
       "<div>\n",
       "<style scoped>\n",
       "    .dataframe tbody tr th:only-of-type {\n",
       "        vertical-align: middle;\n",
       "    }\n",
       "\n",
       "    .dataframe tbody tr th {\n",
       "        vertical-align: top;\n",
       "    }\n",
       "\n",
       "    .dataframe thead th {\n",
       "        text-align: right;\n",
       "    }\n",
       "</style>\n",
       "<table border=\"1\" class=\"dataframe\">\n",
       "  <thead>\n",
       "    <tr style=\"text-align: right;\">\n",
       "      <th></th>\n",
       "      <th>stations</th>\n",
       "    </tr>\n",
       "  </thead>\n",
       "  <tbody>\n",
       "    <tr>\n",
       "      <th>0</th>\n",
       "      <td>{'stationId': '53598', 'stationName': 'ABC New...</td>\n",
       "    </tr>\n",
       "  </tbody>\n",
       "</table>\n",
       "</div>"
      ],
      "text/plain": [
       "                                            stations\n",
       "0  {'stationId': '53598', 'stationName': 'ABC New..."
      ]
     },
     "execution_count": 27,
     "metadata": {},
     "output_type": "execute_result"
    }
   ],
   "source": [
    "df.head()"
   ]
  },
  {
   "cell_type": "code",
   "execution_count": 58,
   "metadata": {},
   "outputs": [
    {
     "data": {
      "text/plain": [
       "Index(['stationId', 'stationName', 'shortLabel', 'stationNameLs',\n",
       "       'shortLabelLs', 'alternateStationName', 'slogan', 'sloganLs', 'format',\n",
       "       'formatLs', 'language', 'urls', 'countryCode', 'stationCity',\n",
       "       'stationCompany', 'logoId', 'bands', 'txs'],\n",
       "      dtype='object')"
      ]
     },
     "execution_count": 58,
     "metadata": {},
     "output_type": "execute_result"
    }
   ],
   "source": [
    "outer_dict.columns"
   ]
  },
  {
   "cell_type": "code",
   "execution_count": 75,
   "metadata": {},
   "outputs": [
    {
     "name": "stdout",
     "output_type": "stream",
     "text": [
      "CHECK:\n",
      "\toperational statuses: [''],\n",
      "\tNon-op statuses: [])\n",
      "\tNo inactive stations found.\n",
      "\n",
      "done.\n"
     ]
    }
   ],
   "source": [
    "# Reads samples from Radio-Africa.org and converts to csv file for CloudRF\n",
    "import pandas as pd\n",
    "import json\n",
    "import warnings\n",
    "\n",
    "# Read data - currently assumed to be nested dictionaries of stations and tower information\n",
    "# for one country/region\n",
    "with open('json/radio-africa-sample.json', 'r') as file:\n",
    "    json_string = file.read()\n",
    "    data = json.loads(json_string)\n",
    "\n",
    "outer_dict = pd.DataFrame(data['stations'])\n",
    "inner_dict = pd.DataFrame(data['stations'][0]['txs'])\n",
    "\n",
    "# Keep selected columns\n",
    "outer_cols = ['stationId', 'stationName', 'alternateStationName',\n",
    "                'format', 'language', 'countryCode', 'stationCity',\n",
    "                'stationCompany', 'bands']\n",
    "inner_cols = [\n",
    "    \n",
    "        # overview\n",
    "        'tsId', 'status',\n",
    "\n",
    "        # RDS related columns - https://en.wikipedia.org/wiki/Radio_Data_System\n",
    "       'hasRds', 'ecc', 'serviceIdentifierRegA',\n",
    "       'serviceIdentifierRegB', 'ensembleIdentifier', 'subChannelIdentifier',\n",
    "       'scids', 'callSign',\n",
    "\n",
    "       # Specs\n",
    "       'band', 'frequency', 'frequencyUnits', 'erp', 'erpUnits', 'haat', 'haatUnits',\n",
    "        \n",
    "        # Geo\n",
    "       'latitude', 'longitude', 'directionality',\n",
    "\n",
    "       # radio-africa contour\n",
    "       'contour'\n",
    "       ]\n",
    "\n",
    "\n",
    "# Concatenate nested dicts with selected columns only\n",
    "df = pd.concat([outer_dict[outer_cols], inner_dict[inner_cols]], axis=1)\n",
    "\n",
    "# Separate non-operational from operational transmitters\n",
    "op = df.loc[df.status == \"\"]\n",
    "nonop = df.loc[df.status != \"\"]\n",
    "\n",
    "print(f\"CHECK:\\n\\toperational statuses: {op.status.unique()},\\n\\tNon-op statuses: {nonop.status.unique()})\")\n",
    "\n",
    "# Export\n",
    "if len(op) > 0:\n",
    "    op.to_csv('outputs/operational_sample.csv', index=False)\n",
    "else:\n",
    "    print(\"\\tNo operational stations found.\")\n",
    "\n",
    "if len(nonop) > 0:\n",
    "    nonop.to_csv('outputs/non_operational_sample.csv', index=False)\n",
    "else:\n",
    "    print(\"\\tNo inactive stations found.\")\n",
    "\n",
    "print('\\ndone.')\n"
   ]
  },
  {
   "cell_type": "code",
   "execution_count": 72,
   "metadata": {},
   "outputs": [
    {
     "data": {
      "text/plain": [
       "0"
      ]
     },
     "execution_count": 72,
     "metadata": {},
     "output_type": "execute_result"
    }
   ],
   "source": [
    "len(nonop) >"
   ]
  },
  {
   "cell_type": "code",
   "execution_count": null,
   "metadata": {},
   "outputs": [],
   "source": []
  }
 ],
 "metadata": {
  "kernelspec": {
   "display_name": "bigd",
   "language": "python",
   "name": "python3"
  },
  "language_info": {
   "codemirror_mode": {
    "name": "ipython",
    "version": 3
   },
   "file_extension": ".py",
   "mimetype": "text/x-python",
   "name": "python",
   "nbconvert_exporter": "python",
   "pygments_lexer": "ipython3",
   "version": "3.11.7"
  },
  "orig_nbformat": 4
 },
 "nbformat": 4,
 "nbformat_minor": 2
}
