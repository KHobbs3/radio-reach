{
 "cells": [
  {
   "cell_type": "markdown",
   "metadata": {},
   "source": [
    "## Pre-processing for LMFM or FMTV ITU table queries"
   ]
  },
  {
   "cell_type": "code",
   "execution_count": 2,
   "metadata": {},
   "outputs": [
    {
     "name": "stdout",
     "output_type": "stream",
     "text": [
      "Intel MKL WARNING: Support of Intel(R) Streaming SIMD Extensions 4.2 (Intel(R) SSE4.2) enabled only processors has been deprecated. Intel oneAPI Math Kernel Library 2025.0 will require Intel(R) Advanced Vector Extensions (Intel(R) AVX) instructions.\n",
      "Intel MKL WARNING: Support of Intel(R) Streaming SIMD Extensions 4.2 (Intel(R) SSE4.2) enabled only processors has been deprecated. Intel oneAPI Math Kernel Library 2025.0 will require Intel(R) Advanced Vector Extensions (Intel(R) AVX) instructions.\n"
     ]
    }
   ],
   "source": [
    "import geopandas as gpd\n",
    "import pandas as pd\n",
    "import glob"
   ]
  },
  {
   "cell_type": "markdown",
   "metadata": {},
   "source": [
    "#### 0. Select ITU table and read extracts"
   ]
  },
  {
   "cell_type": "code",
   "execution_count": 3,
   "metadata": {},
   "outputs": [
    {
     "name": "stdout",
     "output_type": "stream",
     "text": [
      "0 0. itu_queries/input/fmtv/fmtv_benin_togo_burundi.html\n"
     ]
    }
   ],
   "source": [
    "# Choose table\n",
    "table = input(\"Type: 'lfmf' or 'fmtv':\")\n",
    "\n",
    "if table == 'lfmf':\n",
    "    file = '14_countries_lfmf.html'\n",
    "elif table == 'fmtv':\n",
    "    file_list = glob.glob(f\"0. itu_queries/input/{table}/*.html\")\n",
    "    for i, value in enumerate(file_list):\n",
    "        print(i, value)\n",
    "    file_number = int(input('Select file: '))\n",
    "    file = file_list[file_number]\n",
    "else:\n",
    "    print(f'{table} does not exist.')"
   ]
  },
  {
   "cell_type": "markdown",
   "metadata": {},
   "source": [
    "Read File"
   ]
  },
  {
   "cell_type": "code",
   "execution_count": 64,
   "metadata": {},
   "outputs": [
    {
     "data": {
      "text/plain": [
       "array(['BDI', 'BEN', 'TGO'], dtype=object)"
      ]
     },
     "execution_count": 64,
     "metadata": {},
     "output_type": "execute_result"
    }
   ],
   "source": [
    "df_table = pd.read_html(file, skiprows=0, header=0)[0]\n",
    "df_table.ctry.unique()"
   ]
  },
  {
   "cell_type": "code",
   "execution_count": 5,
   "metadata": {},
   "outputs": [],
   "source": [
    "# Create a dictionary to map the ITU country codes to the full country names\n",
    "country_dict = {\n",
    "       'AGL': 'angola',\n",
    "       'BDI':'burundi',\n",
    "       'BEN':'benin',\n",
    "       'COD':'drc',\n",
    "       'ETH':'ethiopia',\n",
    "       'GMB':'gambia',\n",
    "       'IND':'india',\n",
    "       'MLI':'mali',\n",
    "       'MTN':'mauritania',\n",
    "       'NGR':'niger',\n",
    "       'NIG':'nigeria',\n",
    "       'RRW':'rwanda',\n",
    "       'SEN':'senegal',\n",
    "       'TGO':'togo'\n",
    "       }"
   ]
  },
  {
   "cell_type": "markdown",
   "metadata": {},
   "source": [
    "### I. Clean and format ITU data for CloudRF Queries\n",
    "\n",
    "\n",
    "* fill missing call signs with unique identifier\n",
    "* rename columns\n",
    "* update power to antennae from kW to W\n",
    "\n",
    "_fmtv_:\n",
    "* remove tv records by selecting those where `stn_cls` (station class) == `BC`\n",
    "    * BC Broadcasting station, sound\n",
    "    * BT Broadcasting station, television\n",
    "\n",
    "_sanity checks_:\n",
    "* remove negative power and frequencies below 1"
   ]
  },
  {
   "cell_type": "code",
   "execution_count": 65,
   "metadata": {},
   "outputs": [
    {
     "name": "stdout",
     "output_type": "stream",
     "text": [
      "825 of 1313 are FM stations.\n"
     ]
    }
   ],
   "source": [
    "# Drop televisions\n",
    "df = df_table.loc[df_table.stn_cls == 'BC'].copy()\n",
    "\n",
    "print(f\"{len(df)} of {len(df_table)} are FM stations.\")"
   ]
  },
  {
   "cell_type": "code",
   "execution_count": 66,
   "metadata": {},
   "outputs": [
    {
     "data": {
      "text/plain": [
       "['addr_code',\n",
       " 'adm',\n",
       " 'adm_ref_id',\n",
       " 'amend_type',\n",
       " 'ant_dir',\n",
       " 'are_rmk_conds_met',\n",
       " 'assgn_code',\n",
       " 'assgn_id',\n",
       " 'assoc_allot_id',\n",
       " 'assoc_allot_sfn_id',\n",
       " 'azm_max_e',\n",
       " 'bdwdth',\n",
       " 'beam_tilt_angle',\n",
       " 'call_sign',\n",
       " 'color',\n",
       " 'ctry',\n",
       " 'd_adm_ntc',\n",
       " 'd_expiry',\n",
       " 'd_inuse',\n",
       " 'd_pub_req',\n",
       " 'd_rcv',\n",
       " 'd_recog',\n",
       " 'd_updated',\n",
       " 'eff_hgtmax',\n",
       " 'emi_cls',\n",
       " 'erp_beam_tilt_dbw',\n",
       " 'erp_dbw',\n",
       " 'erp_h_dbw',\n",
       " 'erp_h_kw',\n",
       " 'erp_kw',\n",
       " 'erp_v_dbw',\n",
       " 'erp_v_kw',\n",
       " 'eu',\n",
       " 'eu_ref',\n",
       " 'fdg_observ',\n",
       " 'fragment',\n",
       " 'freq_assgn',\n",
       " 'freq_block',\n",
       " 'freq_max',\n",
       " 'freq_min',\n",
       " 'freq_scarr',\n",
       " 'freq_stabl',\n",
       " 'freq_vcarr',\n",
       " 'has_signed_commitment',\n",
       " 'hgt_agl',\n",
       " 'intent',\n",
       " 'is_digital',\n",
       " 'is_notice',\n",
       " 'is_pub_req',\n",
       " 'is_public',\n",
       " 'is_resub',\n",
       " 'lat_dec',\n",
       " 'lat_deg',\n",
       " 'lat_min',\n",
       " 'lat_ns',\n",
       " 'lat_rdn',\n",
       " 'lat_sec',\n",
       " 'long_dec',\n",
       " 'long_deg',\n",
       " 'long_ew',\n",
       " 'long_min',\n",
       " 'long_rdn',\n",
       " 'long_sec',\n",
       " 'mod_type',\n",
       " 'notice_typ',\n",
       " 'offset_khz',\n",
       " 'op_agcy',\n",
       " 'oset_s_12',\n",
       " 'oset_s_khz',\n",
       " 'oset_v_12',\n",
       " 'oset_v_khz',\n",
       " 'plan_adm_ref_id',\n",
       " 'plan_entry',\n",
       " 'polar',\n",
       " 'prov',\n",
       " 'pwr_dens',\n",
       " 'pwr_dens_reference',\n",
       " 'pwr_ratio',\n",
       " 'ref_plan_cfg',\n",
       " 'region',\n",
       " 'rx_mode',\n",
       " 'sfn_id',\n",
       " 'site_alt',\n",
       " 'site_name',\n",
       " 'spect_mask',\n",
       " 'src_notice',\n",
       " 'src_update',\n",
       " 'stage',\n",
       " 'stn_cls',\n",
       " 'stn_id',\n",
       " 'target',\n",
       " 'terrakey',\n",
       " 'tran_sys',\n",
       " 'tv_chan']"
      ]
     },
     "execution_count": 66,
     "metadata": {},
     "output_type": "execute_result"
    }
   ],
   "source": [
    "# Check columns\n",
    "sorted(df.columns.sort_values())"
   ]
  },
  {
   "cell_type": "code",
   "execution_count": 67,
   "metadata": {},
   "outputs": [
    {
     "name": "stdout",
     "output_type": "stream",
     "text": [
      "dropping 0 records with transmitter power at or below 0\n",
      "825 remaining records.\n",
      "dropping 0 records with transmitter frequency is at or below 1\n",
      "825 remaining records.\n"
     ]
    }
   ],
   "source": [
    "# fill null call_sign with station id and terrakey so that it can be used for identification\n",
    "df.call_sign = df.call_sign.fillna(df.stn_id).fillna(df.terrakey)\n",
    "\n",
    "# rename columns\n",
    "if table == 'lfmf':\n",
    "    df.rename(columns = {\n",
    "        'site_name': 'site',\n",
    "        'call_sign': 'network',\n",
    "        'pwr_kw' : 'transmitter.txw',\n",
    "        'freq_assgn': 'transmitter.frq', #assigned frequency in kHz\n",
    "        'ant_hgt_m' : 'transmitter.alt',\n",
    "        'long_dec': 'transmitter.lon',\n",
    "        'lat_dec': 'transmitter.lat',\n",
    "        'azm_max_e': 'antenna.azi', # azimuth\n",
    "    },\n",
    "        inplace = True)\n",
    "\n",
    "elif table == 'fmtv':\n",
    "    df.rename(columns = {\n",
    "        'site_name': 'site',\n",
    "        'call_sign': 'network',\n",
    "        'erp_kw' : 'transmitter.txw',\n",
    "        'freq_assgn': 'transmitter.frq', \n",
    "        'hgt_agl' : 'transmitter.alt',\n",
    "        'long_dec': 'transmitter.lon',\n",
    "        'lat_dec': 'transmitter.lat',\n",
    "        'azm_max_e': 'antenna.azi', # azimuth\n",
    "        # 'beam_tilt_angle': 'antenna.tilt', #Antenna tilt is mostly null\n",
    "        'polar': 'antenna.pol'\n",
    "\n",
    "    },\n",
    "        inplace = True)\n",
    "\n",
    "    # convert polarization to lower case\n",
    "    df['antenna.pol'] = df['antenna.pol'].str.lower()\n",
    "\n",
    "    # add Antenna pattern code:\n",
    "    # 0 - Allows custom options (see: hbw; vbw; fbr)\n",
    "    # 1 - Vertical dipole (omni-directional)\n",
    "    df['antenna.ant'] = df.ant_dir.map(lambda x: 0 if x == 'D' else 1)\n",
    "\n",
    "\n",
    "# update power to antennae from kW to watts\n",
    "df['transmitter.txw'] = df['transmitter.txw'] * 1000\n",
    "\n",
    "# Data quality checks -----\n",
    "# power\n",
    "negatives = df.loc[df['transmitter.txw'] <= 0]\n",
    "print(f'dropping {len(negatives)} records with transmitter power at or below 0')\n",
    "df = df.loc[df['transmitter.txw'] > 0]\n",
    "print(f'{len(df)} remaining records.')\n",
    "\n",
    "# frequency\n",
    "negatives = df.loc[df['transmitter.frq'] <= 1]\n",
    "print(f'dropping {len(negatives)} records with transmitter frequency is at or below 1')\n",
    "df = df.loc[df['transmitter.frq'] > 1]\n",
    "print(f'{len(df)} remaining records.')\n"
   ]
  },
  {
   "cell_type": "markdown",
   "metadata": {},
   "source": [
    "### II. Imputations\n",
    "\n",
    "* height\n",
    "* azimuth\n",
    "\n",
    "_lfmf_:\n",
    "* beamwidth"
   ]
  },
  {
   "cell_type": "code",
   "execution_count": 68,
   "metadata": {},
   "outputs": [
    {
     "name": "stdout",
     "output_type": "stream",
     "text": [
      "Summary of height imputation values: \n",
      "Overall mode: 30.0\n",
      "Lower limit: 0.0\n",
      "Upper limit: 210.0\n",
      "Imputing 825 heights...\n",
      "Imputing 825 azimuth...\n"
     ]
    }
   ],
   "source": [
    "# HEIGHTS ----\n",
    "# Define imputation values for heights\n",
    "print('Summary of height imputation values: ')\n",
    "total = df['transmitter.alt'].mode()[0]\n",
    "ll = df['transmitter.alt'].min()\n",
    "ul = df['transmitter.alt'].max()\n",
    "print(f'Overall mode: {total}\\nLower limit: {ll}\\nUpper limit: {ul}')\n",
    "\n",
    "\n",
    "print(f\"Imputing {len(df['transmitter.alt'].isnull())} heights...\")\n",
    "# impute mode\n",
    "df.fillna({'transmitter.alt': total}, inplace=True)\n",
    "\n",
    "# AZIMUTH ----\n",
    "print(f\"Imputing {len(df['antenna.azi'].isnull())} azimuth...\")\n",
    "# impute default antenna azi and hbw from fem.json (cloudrf template)\n",
    "df.fillna({'antenna.azi': 0}, inplace =True)\n",
    "\n",
    "if table == 'lfmf':\n",
    "    print(f\"Imputing {len(df['antenna.hbw'].isnull())} beamswidth...\")\n",
    "    df['antenna.hbw'] = 120"
   ]
  },
  {
   "cell_type": "markdown",
   "metadata": {},
   "source": [
    "Define columns to be included in the export"
   ]
  },
  {
   "cell_type": "code",
   "execution_count": 69,
   "metadata": {},
   "outputs": [],
   "source": [
    "if table == 'lfmf':\n",
    "    cols = [\n",
    "        'site',\n",
    "        'network',\n",
    "        'transmitter.lat',\n",
    "        'transmitter.lon',\n",
    "        'transmitter.alt',\n",
    "        'transmitter.txw',\n",
    "        'transmitter.frq',\n",
    "        'antenna.azi'\n",
    "        ]\n",
    "\n",
    "elif table == 'fmtv':\n",
    "    cols = [\n",
    "        'site',\n",
    "        'network',\n",
    "        'transmitter.lat',\n",
    "        'transmitter.lon',\n",
    "        'transmitter.alt',\n",
    "        'transmitter.txw',\n",
    "        'transmitter.frq',\n",
    "        'antenna.azi',\n",
    "        'antenna.pol'\n",
    "        ]"
   ]
  },
  {
   "cell_type": "markdown",
   "metadata": {},
   "source": [
    "Separate and export"
   ]
  },
  {
   "cell_type": "code",
   "execution_count": 70,
   "metadata": {},
   "outputs": [
    {
     "name": "stdout",
     "output_type": "stream",
     "text": [
      "burundi\n",
      "benin\n",
      "togo\n"
     ]
    }
   ],
   "source": [
    "for cty in df.ctry.unique():\n",
    "    country = country_dict[cty]\n",
    "    print(country)\n",
    "\n",
    "    # separate dataframe by countr\n",
    "    df_subset = df.loc[df.ctry == cty]\n",
    "\n",
    "    # export full df for each country to future review\n",
    "    df_subset.to_csv(f'0. itu_queries/output/{table}/{country}_{table}_full.csv', index=False)\n",
    "\n",
    "    # export subset for cloudrf\n",
    "    df_subset[cols].to_csv(f\"../cloudrf/input/{table}/{country}_{table}.csv\", index=False)"
   ]
  },
  {
   "cell_type": "code",
   "execution_count": 71,
   "metadata": {},
   "outputs": [
    {
     "data": {
      "text/html": [
       "<div>\n",
       "<style scoped>\n",
       "    .dataframe tbody tr th:only-of-type {\n",
       "        vertical-align: middle;\n",
       "    }\n",
       "\n",
       "    .dataframe tbody tr th {\n",
       "        vertical-align: top;\n",
       "    }\n",
       "\n",
       "    .dataframe thead th {\n",
       "        text-align: right;\n",
       "    }\n",
       "</style>\n",
       "<table border=\"1\" class=\"dataframe\">\n",
       "  <thead>\n",
       "    <tr style=\"text-align: right;\">\n",
       "      <th></th>\n",
       "      <th>ctry</th>\n",
       "      <th>terrakey</th>\n",
       "    </tr>\n",
       "  </thead>\n",
       "  <tbody>\n",
       "    <tr>\n",
       "      <th>0</th>\n",
       "      <td>BDI</td>\n",
       "      <td>200</td>\n",
       "    </tr>\n",
       "    <tr>\n",
       "      <th>1</th>\n",
       "      <td>BEN</td>\n",
       "      <td>473</td>\n",
       "    </tr>\n",
       "    <tr>\n",
       "      <th>2</th>\n",
       "      <td>TGO</td>\n",
       "      <td>152</td>\n",
       "    </tr>\n",
       "  </tbody>\n",
       "</table>\n",
       "</div>"
      ],
      "text/plain": [
       "  ctry  terrakey\n",
       "0  BDI       200\n",
       "1  BEN       473\n",
       "2  TGO       152"
      ]
     },
     "execution_count": 71,
     "metadata": {},
     "output_type": "execute_result"
    }
   ],
   "source": [
    "df.groupby('ctry').terrakey.count().reset_index()"
   ]
  },
  {
   "cell_type": "code",
   "execution_count": null,
   "metadata": {},
   "outputs": [],
   "source": []
  }
 ],
 "metadata": {
  "kernelspec": {
   "display_name": "bigd",
   "language": "python",
   "name": "python3"
  },
  "language_info": {
   "codemirror_mode": {
    "name": "ipython",
    "version": 3
   },
   "file_extension": ".py",
   "mimetype": "text/x-python",
   "name": "python",
   "nbconvert_exporter": "python",
   "pygments_lexer": "ipython3",
   "version": "3.11.7"
  }
 },
 "nbformat": 4,
 "nbformat_minor": 2
}
