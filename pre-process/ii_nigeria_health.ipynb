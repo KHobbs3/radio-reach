{
 "cells": [
  {
   "cell_type": "code",
   "execution_count": 10,
   "metadata": {},
   "outputs": [],
   "source": [
    "import pandas as pd\n",
    "import geopandas as gpd\n",
    "import glob"
   ]
  },
  {
   "cell_type": "code",
   "execution_count": 12,
   "metadata": {},
   "outputs": [
    {
     "name": "stdout",
     "output_type": "stream",
     "text": [
      "reading ii. health-facilities/DHIS2/nigeria/private/Clients that received Condoms .geojson...\n",
      "reading ii. health-facilities/DHIS2/nigeria/private/Clients given oral pills.geojson...\n",
      "reading ii. health-facilities/DHIS2/nigeria/private/Implants inserted.geojson...\n",
      "reading ii. health-facilities/DHIS2/nigeria/private/IUD inserted .geojson...\n",
      "Dropped 994 duplicates.\n"
     ]
    }
   ],
   "source": [
    "private_list = []\n",
    "for file in glob.glob('ii. health-facilities/DHIS2/nigeria/private/*'):\n",
    "    print(f'reading {file}...')\n",
    "    \n",
    "    # Read file\n",
    "    private_list.append(gpd.read_file(file))\n",
    "\n",
    "\n",
    "\n",
    "# concatenate\n",
    "private_df = pd.concat(private_list)\n",
    "\n",
    "# remove duplicates\n",
    "nrow = len(private_df)\n",
    "private_df.drop_duplicates(subset = 'geometry', inplace=True)\n",
    "print(f\"Dropped {nrow-len(private_df)} duplicates.\")\n",
    "\n",
    "# convert to geodataframe\n",
    "gdf = gpd.GeoDataFrame(private_df, geometry = 'geometry', crs='epsg:4326')\n",
    "\n",
    "# export\n",
    "gdf.to_file('../reach/health-centres/DHIS2/nigeria/private_facilities.geojson')"
   ]
  },
  {
   "cell_type": "code",
   "execution_count": null,
   "metadata": {},
   "outputs": [],
   "source": []
  }
 ],
 "metadata": {
  "kernelspec": {
   "display_name": "bigd",
   "language": "python",
   "name": "python3"
  },
  "language_info": {
   "codemirror_mode": {
    "name": "ipython",
    "version": 3
   },
   "file_extension": ".py",
   "mimetype": "text/x-python",
   "name": "python",
   "nbconvert_exporter": "python",
   "pygments_lexer": "ipython3",
   "version": "3.11.7"
  }
 },
 "nbformat": 4,
 "nbformat_minor": 2
}
