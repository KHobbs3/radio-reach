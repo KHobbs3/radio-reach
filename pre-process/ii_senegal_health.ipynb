{
 "cells": [
  {
   "cell_type": "code",
   "execution_count": 2,
   "metadata": {},
   "outputs": [
    {
     "name": "stdout",
     "output_type": "stream",
     "text": [
      "Intel MKL WARNING: Support of Intel(R) Streaming SIMD Extensions 4.2 (Intel(R) SSE4.2) enabled only processors has been deprecated. Intel oneAPI Math Kernel Library 2025.0 will require Intel(R) Advanced Vector Extensions (Intel(R) AVX) instructions.\n",
      "Intel MKL WARNING: Support of Intel(R) Streaming SIMD Extensions 4.2 (Intel(R) SSE4.2) enabled only processors has been deprecated. Intel oneAPI Math Kernel Library 2025.0 will require Intel(R) Advanced Vector Extensions (Intel(R) AVX) instructions.\n"
     ]
    }
   ],
   "source": [
    "import geopandas as gpd\n",
    "import pandas as pd"
   ]
  },
  {
   "cell_type": "code",
   "execution_count": 28,
   "metadata": {},
   "outputs": [
    {
     "name": "stdout",
     "output_type": "stream",
     "text": [
      "7647 facilities with missing geometries dropped.\n",
      " 5318 facilities remaining.\n"
     ]
    }
   ],
   "source": [
    "df = gpd.read_file('ii. health-facilities/senegal/senegal_full_facilitylist.csv')\n",
    "start = len(df)\n",
    "\n",
    "# Drop facilities with missing coordinates\n",
    "df.dropna(subset=['latitude', 'longitude'],\n",
    "        inplace = True)\n",
    "\n",
    "df = df.loc[df.latitude != \"\"].copy()\n",
    "print(f\"{start - len(df)} facilities with missing geometries dropped.\\n {len(df)} facilities remaining.\")\n",
    "\n",
    "# Drop original geometry column (is None)\n",
    "df.drop(columns = ['geometry'], inplace = True)\n",
    "\n",
    "# Convert to gdf\n",
    "gdf = gpd.GeoDataFrame(df, geometry = gpd.points_from_xy(df.longitude, df.latitude), crs='epsg:4326')\n",
    "\n",
    "# Export\n",
    "gdf.to_file(\"../reach/health-centres/HDX/senegal/hf.geojson\")\n",
    "gdf.to_file(\"../reach/health-centres/HDX/dakar/hf.geojson\")"
   ]
  },
  {
   "cell_type": "code",
   "execution_count": 8,
   "metadata": {},
   "outputs": [],
   "source": [
    "# import pandas as pd\n",
    "# df1 = pd.read_csv('../cloudrf/input/fem.mauritania.csv')\n",
    "# df2 = pd.read_csv('../cloudrf/input/fem.senegal.csv')\n",
    "# df = pd.concat([df1, df2])\n",
    "# print(df['transmitter.alt'].mode())\n",
    "# print(df1['transmitter.alt'].mode())\n",
    "# print(df2['transmitter.alt'].mode())"
   ]
  }
 ],
 "metadata": {
  "kernelspec": {
   "display_name": "bigd",
   "language": "python",
   "name": "python3"
  },
  "language_info": {
   "codemirror_mode": {
    "name": "ipython",
    "version": 3
   },
   "file_extension": ".py",
   "mimetype": "text/x-python",
   "name": "python",
   "nbconvert_exporter": "python",
   "pygments_lexer": "ipython3",
   "version": "3.11.7"
  }
 },
 "nbformat": 4,
 "nbformat_minor": 2
}
