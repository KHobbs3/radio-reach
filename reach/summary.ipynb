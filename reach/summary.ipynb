{
 "cells": [
  {
   "cell_type": "markdown",
   "metadata": {},
   "source": [
    "# Summary of Radio Population Estimates\n",
    "\n",
    "* Synthesize output from `radio_populations_polygons.R`\n",
    "* Sort results by a) the total population within 5 km of a clinic, b) the proportion of the radio extent living near a clinic."
   ]
  },
  {
   "cell_type": "code",
   "execution_count": 4,
   "metadata": {},
   "outputs": [],
   "source": [
    "import pandas as pd\n",
    "import os\n",
    "import glob\n",
    "from datetime import datetime as dt"
   ]
  },
  {
   "cell_type": "code",
   "execution_count": 3,
   "metadata": {},
   "outputs": [
    {
     "data": {
      "text/plain": [
       "Index(['source_file', 'population_coverage', 'radio_coverage',\n",
       "       'population_proportion', 'kilometre', 'station_name'],\n",
       "      dtype='object')"
      ]
     },
     "execution_count": 3,
     "metadata": {},
     "output_type": "execute_result"
    }
   ],
   "source": [
    "df = pd.read_csv('output/benin/benin_summary_reach_polygons.csv')\n",
    "df.columns"
   ]
  },
  {
   "cell_type": "code",
   "execution_count": 7,
   "metadata": {},
   "outputs": [
    {
     "name": "stdout",
     "output_type": "stream",
     "text": [
      "dakar\n",
      "benin\n",
      "drc\n",
      "mali\n",
      "senegal\n",
      "togo\n",
      "gambia\n",
      "india\n",
      "cameroon\n",
      "mauritania\n",
      "rwanda\n"
     ]
    }
   ],
   "source": [
    "results = []\n",
    "for file in glob.glob(\"output/*/*_summary_reach_polygons.csv\"):\n",
    "    country = os.path.basename(file).split('_')[0]\n",
    "    print(country)\n",
    "\n",
    "    # read summary\n",
    "    df = pd.read_csv(file)\n",
    "\n",
    "    # add country\n",
    "    df['country'] = country\n",
    "    \n",
    "    # add to list\n",
    "    results.append(df)\n",
    "\n",
    "# concatenate and sort values\n",
    "master = pd.concat(results)\\\n",
    "                .sort_values(['population_coverage', 'population_proportion'], ascending = False)\n",
    "\n",
    "master.to_csv(f'output/master_reach_{dt.today().strftime(\"%m-%d-%Y\")}.csv', index=False)"
   ]
  }
 ],
 "metadata": {
  "kernelspec": {
   "display_name": "bigd",
   "language": "python",
   "name": "python3"
  },
  "language_info": {
   "codemirror_mode": {
    "name": "ipython",
    "version": 3
   },
   "file_extension": ".py",
   "mimetype": "text/x-python",
   "name": "python",
   "nbconvert_exporter": "python",
   "pygments_lexer": "ipython3",
   "version": "3.11.7"
  }
 },
 "nbformat": 4,
 "nbformat_minor": 2
}
